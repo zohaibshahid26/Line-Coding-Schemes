{
 "cells": [
  {
   "cell_type": "code",
   "execution_count": null,
   "id": "8865d2dd",
   "metadata": {},
   "outputs": [],
   "source": [
    "import matplotlib.pyplot as plt\n",
    "import numpy as np"
   ]
  },
  {
   "cell_type": "code",
   "execution_count": null,
   "id": "9d566758",
   "metadata": {},
   "outputs": [],
   "source": [
    "import matplotlib.pyplot as plt\n",
    "def NRZ(bits):\n",
    "    y=bits\n",
    "    y.append(y[-1])\n",
    "    x = range(len(y))\n",
    "    plt.title('NRZ')\n",
    "    plt.xlabel('Time')\n",
    "    plt.ylabel('Amplitude')\n",
    "    plt.step(x, y, 'o-', linewidth=2, where='post')\n",
    "    plt.yticks([0, 1], ['0', '+V'])\n",
    "    plt.xticks(ticks=x, labels=x)\n",
    "    plt.ylim(-1.5, 1.5)\n",
    "    plt.xlim(0, len(x)-1)\n",
    "    for i in range(len(y)-1):\n",
    "        plt.text(x[i] + 0.5, y[i] + 0.25, str(y[i]), ha='center')\n",
    "    plt.grid()\n",
    "    plt.show()"
   ]
  },
  {
   "cell_type": "code",
   "execution_count": null,
   "id": "0cb2e685",
   "metadata": {},
   "outputs": [],
   "source": [
    "def NRZ_L(bits):\n",
    "    bits=[0,1,0,0,1,1,1,0]\n",
    "    text=bits.copy()\n",
    "    y=bits\n",
    "    for i in range(0,len(y)):\n",
    "        if y[i] == 0:\n",
    "            y[i]=1\n",
    "        elif y[i]==1:\n",
    "            y[i]=-1\n",
    "        \n",
    "    y.append(y[-1])\n",
    "    x = range(len(y))\n",
    "    plt.title('NRZ-L')\n",
    "    plt.xlabel('Time')\n",
    "    plt.ylabel('Amplitude')\n",
    "    plt.step(x, y, 'o-', linewidth=2, where='post')\n",
    "    plt.yticks([-1, 0, 1], ['-V','0','+V'])\n",
    "    plt.xticks(ticks=x, labels=x)\n",
    "    plt.ylim(-2.5, 2.5)\n",
    "    plt.xlim(0, len(x)-1)\n",
    "    for i in range(len(y)-1):\n",
    "        plt.text(x[i] + 0.5, y[i] + 0.25, str(text[i]), ha='center')\n",
    "    plt.grid()\n",
    "    plt.show()\n",
    "    "
   ]
  },
  {
   "cell_type": "code",
   "execution_count": null,
   "id": "90e50458",
   "metadata": {},
   "outputs": [],
   "source": [
    "def NRZ_I(bits):"
   ]
  },
  {
   "cell_type": "code",
   "execution_count": null,
   "id": "7a7dfc0e",
   "metadata": {},
   "outputs": [],
   "source": [
    "def RZ(bits):"
   ]
  },
  {
   "cell_type": "code",
   "execution_count": null,
   "id": "c8a28949",
   "metadata": {},
   "outputs": [],
   "source": [
    "def manchester(bits):"
   ]
  },
  {
   "cell_type": "code",
   "execution_count": null,
   "id": "09282e7e",
   "metadata": {},
   "outputs": [],
   "source": [
    "def differential_manchester(bits):"
   ]
  },
  {
   "cell_type": "code",
   "execution_count": null,
   "id": "4f1eb743",
   "metadata": {},
   "outputs": [],
   "source": [
    "def AMI(bits):"
   ]
  },
  {
   "cell_type": "code",
   "execution_count": null,
   "id": "227ccca5",
   "metadata": {},
   "outputs": [],
   "source": [
    "def Pseudomternary(bits):"
   ]
  },
  {
   "cell_type": "code",
   "execution_count": null,
   "id": "07d5b588",
   "metadata": {},
   "outputs": [],
   "source": [
    "def two_BIQ(bits):"
   ]
  },
  {
   "cell_type": "code",
   "execution_count": null,
   "id": "ffdb3c21",
   "metadata": {},
   "outputs": [],
   "source": [
    "def get_binary():\n",
    "    binary=input(\"Enter binary to generate signal:\")\n",
    "    bits=[bit for bit in binary]\n",
    "    for bit in bits:\n",
    "        if bit!=\"0\" and bit!=\"1\":\n",
    "            binary=input(\"Invalid Bit Pattern! Please re-enter binary:\")\n",
    "            bits.clear()\n",
    "            bits=[bit for bit in binary]\n",
    "            continue\n",
    "    bits=[int(bit) for bit in bits]\n",
    "    return bits"
   ]
  },
  {
   "cell_type": "code",
   "execution_count": null,
   "id": "19d83ccc",
   "metadata": {},
   "outputs": [],
   "source": [
    "while True:\n",
    "    bits=get_binary()\n",
    "    print(bits)\n",
    "    print(\"1- NRZ\")\n",
    "    print(\"2- NRZ-L\")\n",
    "    print(\"3- NRZ-I\")\n",
    "    print(\"4- RZ\")\n",
    "    print(\"5- Manchester\")\n",
    "    print(\"6- Differential Manchester\")\n",
    "    print(\"7- AMI\")\n",
    "    print(\"8- Pseudomternary\")\n",
    "    print(\"9- 2BiQ\")\n",
    "    choice=input(\"Choose line coding scheme\")\n",
    "    if choice==\"1\":\n",
    "        NRZ(bits)\n",
    "    elif choice==\"2\":\n",
    "        NRZ_L(bits)\n",
    "    \n",
    "\n",
    "\n",
    "    is_continue=input(\"Do you want to try another binary? ( Y for yes, N for No):\")\n",
    "    while is_continue.lower()!=\"y\" and is_continue.lower()!=\"n\":\n",
    "        is_continue=input(\"ENter valid choice ( Y for yes, N for No):\")\n",
    "    if is_continue.lower()==\"y\":\n",
    "        continue\n",
    "    else:\n",
    "        break\n",
    "        \n",
    "\n"
   ]
  },
  {
   "cell_type": "code",
   "execution_count": null,
   "id": "71b579ac",
   "metadata": {},
   "outputs": [],
   "source": []
  },
  {
   "cell_type": "code",
   "execution_count": null,
   "id": "ee2d3fc6",
   "metadata": {},
   "outputs": [],
   "source": [
    "2\n"
   ]
  }
 ],
 "metadata": {
  "kernelspec": {
   "display_name": "Python 3 (ipykernel)",
   "language": "python",
   "name": "python3"
  },
  "language_info": {
   "codemirror_mode": {
    "name": "ipython",
    "version": 3
   },
   "file_extension": ".py",
   "mimetype": "text/x-python",
   "name": "python",
   "nbconvert_exporter": "python",
   "pygments_lexer": "ipython3",
   "version": "3.9.13"
  }
 },
 "nbformat": 4,
 "nbformat_minor": 5
}
